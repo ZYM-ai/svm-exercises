{
 "cells": [
  {
   "cell_type": "markdown",
   "metadata": {},
   "source": [
    "1. For each dataset, and create a binary classification problem as follows. Assign to the positive class the class with the greatest number of examples, and assign to the netative class the rest of all the examples. "
   ]
  },
  {
   "cell_type": "code",
   "execution_count": 51,
   "metadata": {},
   "outputs": [],
   "source": [
    "import pandas as pd\n",
    "\n",
    "## 1st dataset: yXT_car\n",
    "data_car=pd.read_csv(\"yXT_car.csv\", header=None)\n",
    "data_car[0].value_counts()\n",
    "def transform(x):\n",
    "    return 1 if x==1 else -1\n",
    "data_car[0]=data_car[0].apply(transform)\n",
    "\n",
    "## 2nd dataset: yXT_seeds\n",
    "data_seeds=pd.read_csv(\"yXT_seeds.csv\", header=None)\n",
    "data_seeds[0].value_counts()\n",
    "def transform(x):\n",
    "    return 1 if x==1 else -1\n",
    "data_seeds[0]=data_seeds[0].apply(transform)\n",
    "\n",
    "## 3rd dataset: yXT_wine\n",
    "data_wine=pd.read_csv(\"yXT_wine.csv\", header=None)\n",
    "data_wine[0].value_counts()\n",
    "def transform(x):\n",
    "    return 1 if x==2 else -1\n",
    "data_wine[0]=data_wine[0].apply(transform)\n",
    "\n",
    "## 4th dataset: yXT_winequality\n",
    "data_winequality=pd.read_csv(\"yXT_winequality-white.csv\", header=None)\n",
    "data_winequality[0].value_counts()\n",
    "def transform(x):\n",
    "    return 1 if x==6 else -1\n",
    "data_winequality[0]=data_winequality[0].apply(transform)\n",
    "\n",
    "## 5th dataset: yXT_yeast   \n",
    "data_yeast=pd.read_csv(\"yXT_yeast.csv\", header=None)\n",
    "data_yeast[0].value_counts()\n",
    "def transform(x):\n",
    "    return 1 if x==3 else -1\n",
    "data_yeast[0]=data_yeast[0].apply(transform)\n"
   ]
  },
  {
   "cell_type": "markdown",
   "metadata": {},
   "source": [
    "2. For each of five datasets, divide examples in each class to two groups with ratio 70%:30%. Importantly, for each class, the one group has 70% of examples and the other group has the rest of examples."
   ]
  },
  {
   "cell_type": "code",
   "execution_count": 96,
   "metadata": {},
   "outputs": [],
   "source": [
    "from sklearn.model_selection import train_test_split\n",
    "\n",
    "## 1st dataset: yXT_car\n",
    "X_car_train, X_car_test, y_car_train, y_car_test=train_test_split(data_car.iloc[:,1::], data_car[0], \\\n",
    "                                                                  test_size=0.3, random_state=11)\n",
    "\n",
    "## 2nd dataset: yXT_seeds\n",
    "X_seeds_train, X_seeds_test, y_seeds_train, y_seeds_test=train_test_split(data_seeds.iloc[:,1::], data_seeds[0], \\\n",
    "                                                                  test_size=0.3, random_state=12)\n",
    "\n",
    "## 3rd dataset: yXT_wine\n",
    "X_wine_train, X_wine_test, y_wine_train, y_wine_test=train_test_split(data_wine.iloc[:,1::], data_wine[0], \\\n",
    "                                                                  test_size=0.3, random_state=13)\n",
    "\n",
    "## 4th dataset: yXT_winequality\n",
    "X_winequality_train, X_winequality_test, y_winequality_train, y_winequality_test=train_test_split(data_winequality.iloc[:,1::],\\\n",
    "                                                                            data_winequality[0],test_size=0.3, random_state=14)\n",
    "\n",
    "## 5th dataset: yXT_yeast   \n",
    "X_yeast_train, X_yeast_test, y_yeast_train, y_yeast_test=train_test_split(data_yeast.iloc[:,1::], data_yeast[0], \\\n",
    "                                                                  test_size=0.3, random_state=15)"
   ]
  },
  {
   "cell_type": "markdown",
   "metadata": {},
   "source": [
    "3. Benchmark the pattern recognition performance on the testing subset using the linear SVM trained with the training subset, for each dataset. The regularization parameter $\\lambda$ is set to $1/n$ where $n$ is the number of training examples."
   ]
  },
  {
   "cell_type": "code",
   "execution_count": 102,
   "metadata": {},
   "outputs": [
    {
     "name": "stdout",
     "output_type": "stream",
     "text": [
      "0.8169556840077071\n",
      "0.746031746031746\n",
      "0.8888888888888888\n"
     ]
    },
    {
     "name": "stderr",
     "output_type": "stream",
     "text": [
      "C:\\Users\\zhaoyiming\\anaconda3\\lib\\site-packages\\sklearn\\svm\\_base.py:947: ConvergenceWarning: Liblinear failed to converge, increase the number of iterations.\n",
      "  \"the number of iterations.\", ConvergenceWarning)\n"
     ]
    },
    {
     "name": "stdout",
     "output_type": "stream",
     "text": [
      "0.5557823129251701\n",
      "0.6995515695067265\n"
     ]
    },
    {
     "name": "stderr",
     "output_type": "stream",
     "text": [
      "C:\\Users\\zhaoyiming\\anaconda3\\lib\\site-packages\\sklearn\\svm\\_base.py:947: ConvergenceWarning: Liblinear failed to converge, increase the number of iterations.\n",
      "  \"the number of iterations.\", ConvergenceWarning)\n"
     ]
    }
   ],
   "source": [
    "from sklearn.svm import LinearSVC\n",
    "\n",
    "## 1st dataset: yXT_car\n",
    "clf=LinearSVC(C=1/len(y_car_train))\n",
    "clf.fit(X_car_train, y_car_train)\n",
    "print(clf.score(X_car_test, y_car_test))\n",
    "\n",
    "## 2nd dataset: yXT_seeds\n",
    "clf=LinearSVC(C=1/len(y_seeds_train))\n",
    "clf.fit(X_seeds_train, y_seeds_train)\n",
    "print(clf.score(X_seeds_test, y_seeds_test))\n",
    "\n",
    "## 3rd dataset: yXT_wine\n",
    "clf=LinearSVC(C=1/len(y_wine_train))\n",
    "clf.fit(X_wine_train, y_wine_train)\n",
    "print(clf.score(X_wine_test, y_wine_test))\n",
    "\n",
    "## 4th dataset: yXT_winequality\n",
    "clf=LinearSVC(C=1/len(y_winequality_train))\n",
    "clf.fit(X_winequality_train, y_winequality_train)\n",
    "print(clf.score(X_winequality_test, y_winequality_test))\n",
    "\n",
    "## 5th dataset: yXT_yeast   \n",
    "clf=LinearSVC(C=1/len(y_yeast_train))\n",
    "clf.fit(X_yeast_train, y_yeast_train)\n",
    "print(clf.score(X_yeast_test, y_yeast_test))\n"
   ]
  },
  {
   "cell_type": "markdown",
   "metadata": {},
   "source": [
    "4. Compare the above result with the dataset preprocessed by two types of normalization. \n",
    "  L1 normalization: L1-norm of each feature vector is one;\n",
    "  L2 normalization: L2-norm of each feature vector is one."
   ]
  },
  {
   "cell_type": "code",
   "execution_count": 125,
   "metadata": {},
   "outputs": [
    {
     "name": "stdout",
     "output_type": "stream",
     "text": [
      "car_data_l1: 0.6994219653179191\n",
      "car_data_l2: 0.8169556840077071\n",
      "seeds_data_l1: 0.6507936507936508\n",
      "seeds_data_l2: 0.746031746031746\n",
      "wine_data_l1: 0.8518518518518519\n",
      "wine_data_l2: 0.5925925925925926\n"
     ]
    },
    {
     "name": "stderr",
     "output_type": "stream",
     "text": [
      "C:\\Users\\zhaoyiming\\anaconda3\\lib\\site-packages\\sklearn\\svm\\_base.py:947: ConvergenceWarning: Liblinear failed to converge, increase the number of iterations.\n",
      "  \"the number of iterations.\", ConvergenceWarning)\n"
     ]
    },
    {
     "name": "stdout",
     "output_type": "stream",
     "text": [
      "winequality_data_l1: 0.5510204081632653\n",
      "winequality_data_l2: 0.5591836734693878\n",
      "yeast_data_l1: 0.6995515695067265\n",
      "yeast_data_l2: 0.6995515695067265\n"
     ]
    },
    {
     "name": "stderr",
     "output_type": "stream",
     "text": [
      "C:\\Users\\zhaoyiming\\anaconda3\\lib\\site-packages\\sklearn\\svm\\_base.py:947: ConvergenceWarning: Liblinear failed to converge, increase the number of iterations.\n",
      "  \"the number of iterations.\", ConvergenceWarning)\n"
     ]
    }
   ],
   "source": [
    "## 1st dataset: yXT_car\n",
    "for l in ['l1','l2']:\n",
    "    # intantiate a normalization transfomer:\n",
    "    transformer=Normalizer(norm=l).fit(data_car.iloc[:,1::]) \n",
    "    # tranform the data's features:\n",
    "    X_data=transformer.transform(data_car.iloc[:,1::]) \n",
    "    #split dataset used to train and test classifier:\n",
    "    X_car_train, X_car_test, y_car_train, y_car_test=train_test_split(X_data, data_car[0], \\\n",
    "                                                                  test_size=0.3)\n",
    "    # intantiate a svc classifier:\n",
    "    clf=LinearSVC(C=1/len(y_car_train))\n",
    "    # fit data to model:\n",
    "    clf.fit(X_car_train, y_car_train)\n",
    "    # print accuracy\n",
    "    print(clf_l1.score(X_car_test, y_car_test))\n",
    "\n",
    "## 2nd dataset: yXT_seeds\n",
    "for l in ['l1','l2']:\n",
    "    transformer=Normalizer(norm=l).fit(data_seeds.iloc[:,1::])\n",
    "    X_data=transformer.transform(data_seeds.iloc[:,1::])\n",
    "    X_seeds_train, X_seeds_test, y_seeds_train, y_seeds_test=train_test_split(X_data, data_seeds[0], \\\n",
    "                                                                  test_size=0.3)\n",
    "    clf=LinearSVC(C=1/len(y_seeds_train))\n",
    "    clf.fit(X_seeds_train, y_seeds_train)\n",
    "    print(clf_l1.score(X_seeds_test, y_seeds_test))\n",
    "\n",
    "## 3rd dataset: yXT_wine\n",
    "for l in ['l1','l2']:\n",
    "    transformer=Normalizer(norm=l).fit(data_wine.iloc[:,1::])\n",
    "    X_data=transformer.transform(data_wine.iloc[:,1::])\n",
    "    X_wine_train, X_wine_test, y_wine_train, y_wine_test=train_test_split(X_data, data_wine[0], \\\n",
    "                                                                  test_size=0.3)\n",
    "    clf=LinearSVC(C=1/len(y_wine_train))\n",
    "    clf.fit(X_wine_train, y_wine_train)\n",
    "    print(clf.score(X_wine_test, y_wine_test))\n",
    "    \n",
    "## 4th dataset: yXT_winequality\n",
    "for l in ['l1','l2']:\n",
    "    transformer=Normalizer(norm=l).fit(data_winequality.iloc[:,1::])\n",
    "    X_data=transformer.transform(data_winequality.iloc[:,1::])\n",
    "    X_winequality_train, X_winequality_test, y_winequality_train, y_winequality_test=train_test_split(X_data,\\\n",
    "                                                                            data_winequality[0],test_size=0.3)\n",
    "    clf=LinearSVC(C=1/len(y_winequality_train))\n",
    "    clf.fit(X_winequality_train, y_winequality_train)\n",
    "    print(clf.score(X_winequality_test, y_winequality_test))\n",
    "\n",
    "## 5th dataset: yXT_yeast   \n",
    "for l in ['l1','l2']:\n",
    "    transformer=Normalizer(norm=l).fit(data_yeast.iloc[:,1::])\n",
    "    X_data=transformer.transform(data_yeast.iloc[:,1::])\n",
    "    X_yeast_train, X_yeast_test, y_yeast_train, y_yeast_test=train_test_split(X_data, data_yeast[0], \\\n",
    "                                                                  test_size=0.3)\n",
    "    clf=LinearSVC(C=1/len(y_yeast_train))\n",
    "    clf.fit(X_yeast_train, y_yeast_train)\n",
    "    print(clf.score(X_yeast_test, y_yeast_test))\n",
    "    print(X_data)\n"
   ]
  },
  {
   "cell_type": "markdown",
   "metadata": {},
   "source": [
    "5. Put each of five datasets back to multi-category classification problem. Train linear SVMs in the one-vs-rest manner with $\\lambda=1/n$. Benchmark the accuracies of three normalization methods: no normalization, L1 normalization, and L2 normalization."
   ]
  },
  {
   "cell_type": "code",
   "execution_count": 76,
   "metadata": {},
   "outputs": [
    {
     "name": "stdout",
     "output_type": "stream",
     "text": [
      "0.7186897880539499\n",
      "0.6994219653179191\n",
      "Normalizer(copy=True, norm='l1')\n",
      "0.6994219653179191\n",
      "Normalizer(copy=True, norm='l2')\n",
      "0.873015873015873\n",
      "0.4126984126984127\n",
      "Normalizer(copy=True, norm='l1')\n",
      "0.5238095238095238\n",
      "Normalizer(copy=True, norm='l2')\n",
      "0.9259259259259259\n",
      "0.3888888888888889\n",
      "Normalizer(copy=True, norm='l1')\n",
      "0.3888888888888889\n",
      "Normalizer(copy=True, norm='l2')\n"
     ]
    },
    {
     "name": "stderr",
     "output_type": "stream",
     "text": [
      "C:\\Users\\zhaoyiming\\anaconda3\\lib\\site-packages\\sklearn\\svm\\_base.py:947: ConvergenceWarning: Liblinear failed to converge, increase the number of iterations.\n",
      "  \"the number of iterations.\", ConvergenceWarning)\n",
      "C:\\Users\\zhaoyiming\\anaconda3\\lib\\site-packages\\sklearn\\svm\\_base.py:947: ConvergenceWarning: Liblinear failed to converge, increase the number of iterations.\n",
      "  \"the number of iterations.\", ConvergenceWarning)\n",
      "C:\\Users\\zhaoyiming\\anaconda3\\lib\\site-packages\\sklearn\\svm\\_base.py:947: ConvergenceWarning: Liblinear failed to converge, increase the number of iterations.\n",
      "  \"the number of iterations.\", ConvergenceWarning)\n",
      "C:\\Users\\zhaoyiming\\anaconda3\\lib\\site-packages\\sklearn\\svm\\_base.py:947: ConvergenceWarning: Liblinear failed to converge, increase the number of iterations.\n",
      "  \"the number of iterations.\", ConvergenceWarning)\n",
      "C:\\Users\\zhaoyiming\\anaconda3\\lib\\site-packages\\sklearn\\svm\\_base.py:947: ConvergenceWarning: Liblinear failed to converge, increase the number of iterations.\n",
      "  \"the number of iterations.\", ConvergenceWarning)\n",
      "C:\\Users\\zhaoyiming\\anaconda3\\lib\\site-packages\\sklearn\\svm\\_base.py:947: ConvergenceWarning: Liblinear failed to converge, increase the number of iterations.\n",
      "  \"the number of iterations.\", ConvergenceWarning)\n",
      "C:\\Users\\zhaoyiming\\anaconda3\\lib\\site-packages\\sklearn\\svm\\_base.py:947: ConvergenceWarning: Liblinear failed to converge, increase the number of iterations.\n",
      "  \"the number of iterations.\", ConvergenceWarning)\n",
      "C:\\Users\\zhaoyiming\\anaconda3\\lib\\site-packages\\sklearn\\svm\\_base.py:947: ConvergenceWarning: Liblinear failed to converge, increase the number of iterations.\n",
      "  \"the number of iterations.\", ConvergenceWarning)\n"
     ]
    },
    {
     "name": "stdout",
     "output_type": "stream",
     "text": [
      "0.46258503401360546\n",
      "0.4421768707482993\n",
      "Normalizer(copy=True, norm='l1')\n",
      "0.45782312925170066\n",
      "Normalizer(copy=True, norm='l2')\n",
      "0.33856502242152464\n",
      "0.32062780269058294\n",
      "Normalizer(copy=True, norm='l1')\n",
      "0.3183856502242152\n",
      "Normalizer(copy=True, norm='l2')\n"
     ]
    }
   ],
   "source": [
    "import pandas as pd\n",
    "from sklearn.model_selection import train_test_split\n",
    "from sklearn.svm import LinearSVC\n",
    "from sklearn.multiclass import OneVsRestClassifier\n",
    "from sklearn.preprocessing import Normalizer\n",
    "\n",
    "## 1st dataset: yXT_car\n",
    "# benchmark the accuracies of data without normalizaiton\n",
    "data_car=pd.read_csv(\"yXT_car.csv\", header=None)\n",
    "X_car_train, X_car_test, y_car_train, y_car_test=train_test_split(data_car.iloc[:,1::], data_car[0], \\\n",
    "                                                                  test_size=0.3)\n",
    "clf=OneVsRestClassifier(LinearSVC(C=1/len(y_car_train))).fit(X_car_train,y_car_train)\n",
    "print(clf.score(X_car_test, y_car_test))\n",
    "# benchmarck the accuracies of data with the normaliztion respectively:L1 and L2.\n",
    "for l in ['l1','l2']:\n",
    "    transformer=Normalizer(norm=l).fit(data_car.iloc[:,1::])\n",
    "    X_data=transformer.transform(data_car.iloc[:,1::])\n",
    "    X_car_train, X_car_test, y_car_train, y_car_test=train_test_split(X_data, data_car[0], \\\n",
    "                                                                  test_size=0.3, random_state=11)\n",
    "    clf=OneVsRestClassifier(LinearSVC(C=1/len(y_car_train))).fit(X_car_train, y_car_train)\n",
    "    print(clf.score(X_car_test, y_car_test))\n",
    "    print(transformer)\n",
    "\n",
    "    \n",
    "## 2nd dataset: yXT_seeds\n",
    "# benchmark the accuracies of data without normalizaiton   \n",
    "data_seeds=pd.read_csv(\"yXT_seeds.csv\", header=None)\n",
    "X_seeds_train, X_seeds_test, y_seeds_train, y_seeds_test=train_test_split(data_seeds.iloc[:,1::], data_seeds[0], \\\n",
    "                                                                  test_size=0.3)\n",
    "clf=OneVsRestClassifier(LinearSVC(C=1/len(y_seeds_train))).fit(X_seeds_train, y_seeds_train)\n",
    "print(clf.score(X_seeds_test, y_seeds_test))\n",
    "# benchmarck the accuracies of data with the normaliztion respectively:L1 and L2.\n",
    "for l in ['l1','l2']:\n",
    "    transformer=Normalizer(norm=l).fit(data_seeds.iloc[:,1::])\n",
    "    X_data=transformer.transform(data_seeds.iloc[:,1::])\n",
    "    X_seeds_train, X_seeds_test, y_seeds_train, y_seeds_test=train_test_split(X_data, data_seeds[0], \\\n",
    "                                                                  test_size=0.3, random_state=12)\n",
    "    clf=OneVsRestClassifier(LinearSVC(C=1/len(y_seeds_train))).fit(X_seeds_train, y_seeds_train)\n",
    "    print(clf.score(X_seeds_test, y_seeds_test))\n",
    "    print(transformer)\n",
    "\n",
    "    \n",
    "## 3rd dataset: yXT_wine\n",
    "# benchmark the accuracies of data without normalizaiton    \n",
    "data_wine=pd.read_csv(\"yXT_wine.csv\", header=None)\n",
    "X_wine_train, X_wine_test, y_wine_train, y_wine_test=train_test_split(data_wine.iloc[:,1::], data_wine[0], \\\n",
    "                                                                  test_size=0.3)\n",
    "clf=OneVsRestClassifier(LinearSVC(C=1/len(y_wine_train))).fit(X_wine_train, y_wine_train)\n",
    "print(clf.score(X_wine_test, y_wine_test))\n",
    "# benchmarck the accuracies of data with the normaliztion respectively:L1 and L2.\n",
    "for l in ['l1','l2']:\n",
    "    transformer=Normalizer(norm=l).fit(data_wine.iloc[:,1::])\n",
    "    X_data=transformer.transform(data_wine.iloc[:,1::])\n",
    "    X_wine_train, X_wine_test, y_wine_train, y_wine_test=train_test_split(X_data, data_wine[0], \\\n",
    "                                                                  test_size=0.3)\n",
    "    clf=OneVsRestClassifier(LinearSVC(C=1/len(y_wine_train))).fit(X_wine_train, y_wine_train)\n",
    "    print(clf.score(X_wine_test, y_wine_test))\n",
    "    print(transformer)\n",
    "\n",
    "    \n",
    "## 4th dataset: yXT_winequality-white\n",
    "# benchmark the accuracies of data without normalizaiton     \n",
    "data_winequality=pd.read_csv(\"yXT_winequality-white.csv\", header=None)\n",
    "X_winequality_train, X_winequality_test, y_winequality_train, y_winequality_test=train_test_split(data_winequality.iloc[:,1::],\\\n",
    "                                                                            data_winequality[0],test_size=0.3)\n",
    "clf=OneVsRestClassifier(LinearSVC(C=1/len(y_winequality_train))).fit(X_winequality_train, y_winequality_train)\n",
    "print(clf.score(X_winequality_test, y_winequality_test))\n",
    "# benchmarck the accuracies of data with the normaliztion respectively:L1 and L2.\n",
    "for l in ['l1','l2']:\n",
    "    transformer=Normalizer(norm=l).fit(data_winequality.iloc[:,1::])\n",
    "    X_data=transformer.transform(data_winequality.iloc[:,1::])\n",
    "    X_winequality_train, X_winequality_test, y_winequality_train, y_winequality_test=train_test_split(X_data,\\\n",
    "                                                                            data_winequality[0],test_size=0.3)\n",
    "    clf=OneVsRestClassifier(LinearSVC(C=1/len(y_winequality_train))).fit(X_winequality_train, y_winequality_train)\n",
    "    print(clf.score(X_winequality_test, y_winequality_test))\n",
    "    print(transformer)\n",
    "   \n",
    "\n",
    "## 5th dataset: yXT_yeast\n",
    "# benchmark the accuracies of data without normalizaiton     \n",
    "data_yeast=pd.read_csv(\"yXT_yeast.csv\", header=None)\n",
    "X_yeast_train, X_yeast_test, y_yeast_train, y_yeast_test=train_test_split(data_yeast.iloc[:,1::], data_yeast[0], \\\n",
    "                                                                  test_size=0.3)\n",
    "clf=OneVsRestClassifier(LinearSVC(C=1/len(y_yeast_train))).fit(X_yeast_train, y_yeast_train)\n",
    "print(clf.score(X_yeast_test, y_yeast_test))\n",
    "# benchmarck the accuracies of data with the normaliztion respectively:L1 and L2.\n",
    "for l in ['l1','l2']:\n",
    "    transformer=Normalizer(norm=l).fit(data_yeast.iloc[:,1::])\n",
    "    X_data=transformer.transform(data_yeast.iloc[:,1::])\n",
    "    X_yeast_train, X_yeast_test, y_yeast_train, y_yeast_test=train_test_split(X_data, data_yeast[0], \\\n",
    "                                                                  test_size=0.3)\n",
    "    clf=OneVsRestClassifier(LinearSVC(C=1/len(y_yeast_train))).fit(X_yeast_train, y_yeast_train)\n",
    "    print(clf.score(X_yeast_test, y_yeast_test))\n",
    "    print(transformer)"
   ]
  },
  {
   "cell_type": "markdown",
   "metadata": {},
   "source": [
    "5. Estimate the value of $\\lambda$ by five-fold cross validation with candidate values $\\lambda = 0.1/n, 1/n, 10/n$, and benchmark the accuracies of the three normalization methods."
   ]
  },
  {
   "cell_type": "code",
   "execution_count": 110,
   "metadata": {
    "scrolled": true
   },
   "outputs": [
    {
     "name": "stdout",
     "output_type": "stream",
     "text": [
      "[0.7005795411679984, 0.7038921847673263, 0.7559960220842907]\n",
      "[[0.7005795411679984, 0.7005795411679984, 0.7005795411679984], [0.7005795411679984, 0.7005795411679984, 0.7005795411679984]]\n"
     ]
    }
   ],
   "source": [
    "from sklearn.model_selection import GridSearchCV, cross_val_score\n",
    "import numpy as np\n",
    "from sklearn.svm import LinearSVC\n",
    "\n",
    "## 1st dataset' cross validation (yXT_car);\n",
    "data_car=pd.read_csv(\"yXT_car.csv\", header=None)\n",
    "# benchmark the accuracies of non-normalization:\n",
    "X_car_train, X_car_test, y_car_train, y_car_test=train_test_split(data_car.iloc[:,1::], data_car[0], \\\n",
    "                                                                  test_size=0.3)\n",
    "C_s = [0.1/len(y_car_train), 1/len(y_car_train), 10/len(y_car_train)]\n",
    "svm=LinearSVC()\n",
    "scores_nonorm = list()\n",
    "for C in C_s:\n",
    "    svm.C = C\n",
    "    this_scores = cross_val_score(svm, X_car_train, y_car_train, n_jobs=1)\n",
    "    scores_nonorm.append(np.mean(this_scores))\n",
    "print(scores_nonorm)    \n",
    "#benchmark the accuracies of L1 and L2 normalization:\n",
    "scores_norm = list()\n",
    "for l in ['l1','l2']:\n",
    "    transformer=Normalizer(norm=l).fit(data_car.iloc[:,1::])\n",
    "    X_data=transformer.transform(data_car.iloc[:,1::])\n",
    "    X_car_train, X_car_test, y_car_train, y_car_test=train_test_split(X_data, data_car[0], \\\n",
    "                                                                  test_size=0.3, random_state=11)\n",
    "    C_s = [0.1/len(y_car_train), 1/len(y_car_train), 10/len(y_car_train)]\n",
    "    scores=list()\n",
    "    for C in C_s:\n",
    "        svm.C = C\n",
    "        this_scores = cross_val_score(svm, X_car_train, y_car_train, n_jobs=1)\n",
    "        scores.append(np.mean(this_scores))\n",
    "    scores_norm.append(scores) \n",
    "print(scores_norm)"
   ]
  },
  {
   "cell_type": "code",
   "execution_count": 111,
   "metadata": {},
   "outputs": [
    {
     "name": "stdout",
     "output_type": "stream",
     "text": [
      "[0.8710344827586207, 0.8981609195402299, 0.9319540229885058]\n",
      "[[0.35356321839080457, 0.35356321839080457, 0.5022988505747127], [0.3673563218390804, 0.3673563218390804, 0.5990804597701149]]\n"
     ]
    },
    {
     "name": "stderr",
     "output_type": "stream",
     "text": [
      "C:\\Users\\zhaoyiming\\anaconda3\\lib\\site-packages\\sklearn\\svm\\_base.py:947: ConvergenceWarning: Liblinear failed to converge, increase the number of iterations.\n",
      "  \"the number of iterations.\", ConvergenceWarning)\n"
     ]
    }
   ],
   "source": [
    "## 2nd dataset' cross validation (yXT_seeds);\n",
    "data_seeds=pd.read_csv(\"yXT_seeds.csv\", header=None)\n",
    "# benchmark the accuracies of non-normalization:\n",
    "X_seeds_train, X_seeds_test, y_seeds_train, y_seeds_test=train_test_split(data_seeds.iloc[:,1::], data_seeds[0], \\\n",
    "                                                                  test_size=0.3)\n",
    "C_s = [0.1/len(y_seeds_train), 1/len(y_seeds_train), 10/len(y_seeds_train)]\n",
    "svm=LinearSVC()\n",
    "scores_nonorm = list()\n",
    "for C in C_s:\n",
    "    svm.C = C\n",
    "    this_scores = cross_val_score(svm, X_seeds_train, y_seeds_train, n_jobs=1)\n",
    "    scores_nonorm.append(np.mean(this_scores))\n",
    "print(scores_nonorm)    \n",
    "#benchmark the accuracies of L1 and L2 normalization:\n",
    "scores_norm = list()\n",
    "for l in ['l1','l2']:\n",
    "    transformer=Normalizer(norm=l).fit(data_seeds.iloc[:,1::])\n",
    "    X_data=transformer.transform(data_seeds.iloc[:,1::])\n",
    "    X_seeds_train, X_seeds_test, y_seeds_train, y_seeds_test=train_test_split(X_data, data_seeds[0], \\\n",
    "                                                                  test_size=0.3)\n",
    "    C_s = [0.1/len(y_seeds_train), 1/len(y_seeds_train), 10/len(y_seeds_train)]\n",
    "    scores=[]\n",
    "    for C in C_s:\n",
    "        svm.C = C\n",
    "        this_scores = cross_val_score(svm, X_seeds_train, y_seeds_train, n_jobs=1)\n",
    "        scores.append(np.mean(this_scores))\n",
    "    scores_norm.append(scores) \n",
    "print(scores_norm)"
   ]
  },
  {
   "cell_type": "markdown",
   "metadata": {},
   "source": [
    "6. Repeat Step 8 ten times to compute ten accuracies for each normalization method. Find the best method. Use the one sample t-test to examine the statistical significance of the difference in accuracy between the best methd and other methods."
   ]
  },
  {
   "cell_type": "code",
   "execution_count": 9,
   "metadata": {},
   "outputs": [],
   "source": [
    "import pandas as pd\n",
    "import numpy as np\n",
    "import matplotlib.pyplot as plt\n",
    "from sklearn.model_selection import train_test_split\n",
    "from sklearn.model_selection import cross_val_score\n",
    "from sklearn.svm import LinearSVC\n",
    "from sklearn.metrics import precision_recall_curve\n",
    "from sklearn.preprocessing import label_binarize\n",
    "from sklearn.multiclass import OneVsRestClassifier\n",
    "from sklearn.metrics import average_precision_score\n",
    "from sklearn.preprocessing import Normalizer\n"
   ]
  },
  {
   "cell_type": "code",
   "execution_count": 91,
   "metadata": {},
   "outputs": [
    {
     "name": "stderr",
     "output_type": "stream",
     "text": [
      "C:\\Users\\zhaoyiming\\anaconda3\\lib\\site-packages\\sklearn\\svm\\_base.py:947: ConvergenceWarning: Liblinear failed to converge, increase the number of iterations.\n",
      "  \"the number of iterations.\", ConvergenceWarning)\n",
      "C:\\Users\\zhaoyiming\\anaconda3\\lib\\site-packages\\sklearn\\svm\\_base.py:947: ConvergenceWarning: Liblinear failed to converge, increase the number of iterations.\n",
      "  \"the number of iterations.\", ConvergenceWarning)\n",
      "C:\\Users\\zhaoyiming\\anaconda3\\lib\\site-packages\\sklearn\\svm\\_base.py:947: ConvergenceWarning: Liblinear failed to converge, increase the number of iterations.\n",
      "  \"the number of iterations.\", ConvergenceWarning)\n",
      "C:\\Users\\zhaoyiming\\anaconda3\\lib\\site-packages\\sklearn\\svm\\_base.py:947: ConvergenceWarning: Liblinear failed to converge, increase the number of iterations.\n",
      "  \"the number of iterations.\", ConvergenceWarning)\n",
      "C:\\Users\\zhaoyiming\\anaconda3\\lib\\site-packages\\sklearn\\svm\\_base.py:947: ConvergenceWarning: Liblinear failed to converge, increase the number of iterations.\n",
      "  \"the number of iterations.\", ConvergenceWarning)\n",
      "C:\\Users\\zhaoyiming\\anaconda3\\lib\\site-packages\\sklearn\\svm\\_base.py:947: ConvergenceWarning: Liblinear failed to converge, increase the number of iterations.\n",
      "  \"the number of iterations.\", ConvergenceWarning)\n",
      "C:\\Users\\zhaoyiming\\anaconda3\\lib\\site-packages\\sklearn\\svm\\_base.py:947: ConvergenceWarning: Liblinear failed to converge, increase the number of iterations.\n",
      "  \"the number of iterations.\", ConvergenceWarning)\n"
     ]
    },
    {
     "name": "stdout",
     "output_type": "stream",
     "text": [
      "0.9523809523809523\n",
      "0.9047619047619048\n"
     ]
    },
    {
     "name": "stderr",
     "output_type": "stream",
     "text": [
      "C:\\Users\\zhaoyiming\\anaconda3\\lib\\site-packages\\sklearn\\svm\\_base.py:947: ConvergenceWarning: Liblinear failed to converge, increase the number of iterations.\n",
      "  \"the number of iterations.\", ConvergenceWarning)\n",
      "C:\\Users\\zhaoyiming\\anaconda3\\lib\\site-packages\\sklearn\\svm\\_base.py:947: ConvergenceWarning: Liblinear failed to converge, increase the number of iterations.\n",
      "  \"the number of iterations.\", ConvergenceWarning)\n",
      "C:\\Users\\zhaoyiming\\anaconda3\\lib\\site-packages\\sklearn\\svm\\_base.py:947: ConvergenceWarning: Liblinear failed to converge, increase the number of iterations.\n",
      "  \"the number of iterations.\", ConvergenceWarning)\n",
      "C:\\Users\\zhaoyiming\\anaconda3\\lib\\site-packages\\sklearn\\svm\\_base.py:947: ConvergenceWarning: Liblinear failed to converge, increase the number of iterations.\n",
      "  \"the number of iterations.\", ConvergenceWarning)\n",
      "C:\\Users\\zhaoyiming\\anaconda3\\lib\\site-packages\\sklearn\\svm\\_base.py:947: ConvergenceWarning: Liblinear failed to converge, increase the number of iterations.\n",
      "  \"the number of iterations.\", ConvergenceWarning)\n",
      "C:\\Users\\zhaoyiming\\anaconda3\\lib\\site-packages\\sklearn\\svm\\_base.py:947: ConvergenceWarning: Liblinear failed to converge, increase the number of iterations.\n",
      "  \"the number of iterations.\", ConvergenceWarning)\n",
      "C:\\Users\\zhaoyiming\\anaconda3\\lib\\site-packages\\sklearn\\svm\\_base.py:947: ConvergenceWarning: Liblinear failed to converge, increase the number of iterations.\n",
      "  \"the number of iterations.\", ConvergenceWarning)\n"
     ]
    },
    {
     "name": "stdout",
     "output_type": "stream",
     "text": [
      "0.8888888888888888\n",
      "0.9206349206349206\n"
     ]
    },
    {
     "name": "stderr",
     "output_type": "stream",
     "text": [
      "C:\\Users\\zhaoyiming\\anaconda3\\lib\\site-packages\\sklearn\\svm\\_base.py:947: ConvergenceWarning: Liblinear failed to converge, increase the number of iterations.\n",
      "  \"the number of iterations.\", ConvergenceWarning)\n"
     ]
    },
    {
     "data": {
      "image/png": "[encoded data removed]",
      "text/plain": [
       "<Figure size 432x288 with 1 Axes>"
      ]
     },
     "metadata": {
      "needs_background": "light"
     },
     "output_type": "display_data"
    }
   ],
   "source": [
    "\n",
    "for i in range(4):\n",
    "    ## Benchmark non-normalization's accuracies and find best parameter\n",
    "    X_seeds_train, X_seeds_test, y_seeds_train, y_seeds_test=train_test_split(data_seeds.iloc[:,1::], data_seeds[0], \\\n",
    "                                                                  test_size=0.3)\n",
    "    n=len(y_seeds_train)\n",
    "    C_s = [0.1/n, 1/n, 10/n]\n",
    "    svm=LinearSVC()\n",
    "    scores_nonorm = list()\n",
    "    for C in C_s:\n",
    "        svm.C = C\n",
    "        this_scores = cross_val_score(svm, X_seeds_train, y_seeds_train, n_jobs=1)\n",
    "        scores_nonorm.append(np.mean(this_scores))   \n",
    "    #print(scores_nonorm)\n",
    "    # find the best para index from the scores list:\n",
    "    best_para_index=np.argmax(scores_nonorm) \n",
    "    #print(best_para_index)\n",
    "    # find the best para based on the best para index and add the corresponding value to best para list:\n",
    "    best_para_nonorm.append(C_s[best_para_index]) \n",
    "    #print(C_s[best_para_index])\n",
    "    svm.C = C_s[best_para_index]\n",
    "    svm.fit(X_seeds_test,y_seeds_test)\n",
    "    print(svm.score(X_seeds_test,y_seeds_test))\n",
    "\n",
    "## plot precision-recall curve\n",
    "precision = dict()\n",
    "recall = dict()\n",
    "average_precision = dict()\n",
    "labels = []\n",
    "Y = label_binarize(data_seeds[0], classes=[1, 2, 3])\n",
    "X_seeds_train, X_seeds_test, y_seeds_train, y_seeds_test=train_test_split(data_seeds.iloc[:,1::], Y, \\\n",
    "                                                                          test_size=0.3)\n",
    "\n",
    "classifier = OneVsRestClassifier(LinearSVC(C=C_s[best_para_index],random_state=random_state))\n",
    "classifier.fit(X_seeds_test, y_seeds_test)\n",
    "y_score = classifier.decision_function(X_seeds_test)    \n",
    "\n",
    "for i in range(3):\n",
    "    precision[i], recall[i], _ = precision_recall_curve(y_seeds_test[:, i],\n",
    "                                                        y_score[:, i])\n",
    "    average_precision[i] = average_precision_score(y_seeds_test[:, i], y_score[:, i])\n",
    "    plt.plot(recall[i],precision[i])\n",
    "#labels.append('Precision-recall for class {0} (area = {1:0.2f})'\n",
    "                     # ''.format(i+1, average_precision[i]))\n",
    "\n",
    "#plt.legend(labels, loc=(0, -.38), prop=dict(size=14))\n"
   ]
  },
  {
   "cell_type": "code",
   "execution_count": 10,
   "metadata": {
    "scrolled": true
   },
   "outputs": [
    {
     "name": "stderr",
     "output_type": "stream",
     "text": [
      "C:\\Users\\zhaoyiming\\anaconda3\\lib\\site-packages\\sklearn\\svm\\_base.py:947: ConvergenceWarning: Liblinear failed to converge, increase the number of iterations.\n",
      "  \"the number of iterations.\", ConvergenceWarning)\n",
      "C:\\Users\\zhaoyiming\\anaconda3\\lib\\site-packages\\sklearn\\svm\\_base.py:947: ConvergenceWarning: Liblinear failed to converge, increase the number of iterations.\n",
      "  \"the number of iterations.\", ConvergenceWarning)\n",
      "C:\\Users\\zhaoyiming\\anaconda3\\lib\\site-packages\\sklearn\\svm\\_base.py:947: ConvergenceWarning: Liblinear failed to converge, increase the number of iterations.\n",
      "  \"the number of iterations.\", ConvergenceWarning)\n",
      "C:\\Users\\zhaoyiming\\anaconda3\\lib\\site-packages\\sklearn\\svm\\_base.py:947: ConvergenceWarning: Liblinear failed to converge, increase the number of iterations.\n",
      "  \"the number of iterations.\", ConvergenceWarning)\n",
      "C:\\Users\\zhaoyiming\\anaconda3\\lib\\site-packages\\sklearn\\svm\\_base.py:947: ConvergenceWarning: Liblinear failed to converge, increase the number of iterations.\n",
      "  \"the number of iterations.\", ConvergenceWarning)\n",
      "C:\\Users\\zhaoyiming\\anaconda3\\lib\\site-packages\\sklearn\\svm\\_base.py:947: ConvergenceWarning: Liblinear failed to converge, increase the number of iterations.\n",
      "  \"the number of iterations.\", ConvergenceWarning)\n",
      "C:\\Users\\zhaoyiming\\anaconda3\\lib\\site-packages\\sklearn\\svm\\_base.py:947: ConvergenceWarning: Liblinear failed to converge, increase the number of iterations.\n",
      "  \"the number of iterations.\", ConvergenceWarning)\n",
      "C:\\Users\\zhaoyiming\\anaconda3\\lib\\site-packages\\sklearn\\svm\\_base.py:947: ConvergenceWarning: Liblinear failed to converge, increase the number of iterations.\n",
      "  \"the number of iterations.\", ConvergenceWarning)\n",
      "C:\\Users\\zhaoyiming\\anaconda3\\lib\\site-packages\\sklearn\\svm\\_base.py:947: ConvergenceWarning: Liblinear failed to converge, increase the number of iterations.\n",
      "  \"the number of iterations.\", ConvergenceWarning)\n",
      "C:\\Users\\zhaoyiming\\anaconda3\\lib\\site-packages\\sklearn\\svm\\_base.py:947: ConvergenceWarning: Liblinear failed to converge, increase the number of iterations.\n",
      "  \"the number of iterations.\", ConvergenceWarning)\n",
      "C:\\Users\\zhaoyiming\\anaconda3\\lib\\site-packages\\sklearn\\svm\\_base.py:947: ConvergenceWarning: Liblinear failed to converge, increase the number of iterations.\n",
      "  \"the number of iterations.\", ConvergenceWarning)\n",
      "C:\\Users\\zhaoyiming\\anaconda3\\lib\\site-packages\\sklearn\\svm\\_base.py:947: ConvergenceWarning: Liblinear failed to converge, increase the number of iterations.\n",
      "  \"the number of iterations.\", ConvergenceWarning)\n",
      "C:\\Users\\zhaoyiming\\anaconda3\\lib\\site-packages\\sklearn\\svm\\_base.py:947: ConvergenceWarning: Liblinear failed to converge, increase the number of iterations.\n",
      "  \"the number of iterations.\", ConvergenceWarning)\n",
      "C:\\Users\\zhaoyiming\\anaconda3\\lib\\site-packages\\sklearn\\svm\\_base.py:947: ConvergenceWarning: Liblinear failed to converge, increase the number of iterations.\n",
      "  \"the number of iterations.\", ConvergenceWarning)\n",
      "C:\\Users\\zhaoyiming\\anaconda3\\lib\\site-packages\\sklearn\\svm\\_base.py:947: ConvergenceWarning: Liblinear failed to converge, increase the number of iterations.\n",
      "  \"the number of iterations.\", ConvergenceWarning)\n",
      "C:\\Users\\zhaoyiming\\anaconda3\\lib\\site-packages\\sklearn\\svm\\_base.py:947: ConvergenceWarning: Liblinear failed to converge, increase the number of iterations.\n",
      "  \"the number of iterations.\", ConvergenceWarning)\n",
      "C:\\Users\\zhaoyiming\\anaconda3\\lib\\site-packages\\sklearn\\svm\\_base.py:947: ConvergenceWarning: Liblinear failed to converge, increase the number of iterations.\n",
      "  \"the number of iterations.\", ConvergenceWarning)\n",
      "C:\\Users\\zhaoyiming\\anaconda3\\lib\\site-packages\\sklearn\\svm\\_base.py:947: ConvergenceWarning: Liblinear failed to converge, increase the number of iterations.\n",
      "  \"the number of iterations.\", ConvergenceWarning)\n",
      "C:\\Users\\zhaoyiming\\anaconda3\\lib\\site-packages\\sklearn\\svm\\_base.py:947: ConvergenceWarning: Liblinear failed to converge, increase the number of iterations.\n",
      "  \"the number of iterations.\", ConvergenceWarning)\n",
      "C:\\Users\\zhaoyiming\\anaconda3\\lib\\site-packages\\sklearn\\svm\\_base.py:947: ConvergenceWarning: Liblinear failed to converge, increase the number of iterations.\n",
      "  \"the number of iterations.\", ConvergenceWarning)\n",
      "C:\\Users\\zhaoyiming\\anaconda3\\lib\\site-packages\\sklearn\\svm\\_base.py:947: ConvergenceWarning: Liblinear failed to converge, increase the number of iterations.\n",
      "  \"the number of iterations.\", ConvergenceWarning)\n",
      "C:\\Users\\zhaoyiming\\anaconda3\\lib\\site-packages\\sklearn\\svm\\_base.py:947: ConvergenceWarning: Liblinear failed to converge, increase the number of iterations.\n",
      "  \"the number of iterations.\", ConvergenceWarning)\n",
      "C:\\Users\\zhaoyiming\\anaconda3\\lib\\site-packages\\sklearn\\svm\\_base.py:947: ConvergenceWarning: Liblinear failed to converge, increase the number of iterations.\n",
      "  \"the number of iterations.\", ConvergenceWarning)\n",
      "C:\\Users\\zhaoyiming\\anaconda3\\lib\\site-packages\\sklearn\\svm\\_base.py:947: ConvergenceWarning: Liblinear failed to converge, increase the number of iterations.\n",
      "  \"the number of iterations.\", ConvergenceWarning)\n",
      "C:\\Users\\zhaoyiming\\anaconda3\\lib\\site-packages\\sklearn\\svm\\_base.py:947: ConvergenceWarning: Liblinear failed to converge, increase the number of iterations.\n",
      "  \"the number of iterations.\", ConvergenceWarning)\n",
      "C:\\Users\\zhaoyiming\\anaconda3\\lib\\site-packages\\sklearn\\svm\\_base.py:947: ConvergenceWarning: Liblinear failed to converge, increase the number of iterations.\n",
      "  \"the number of iterations.\", ConvergenceWarning)\n",
      "C:\\Users\\zhaoyiming\\anaconda3\\lib\\site-packages\\sklearn\\svm\\_base.py:947: ConvergenceWarning: Liblinear failed to converge, increase the number of iterations.\n",
      "  \"the number of iterations.\", ConvergenceWarning)\n",
      "C:\\Users\\zhaoyiming\\anaconda3\\lib\\site-packages\\sklearn\\svm\\_base.py:947: ConvergenceWarning: Liblinear failed to converge, increase the number of iterations.\n",
      "  \"the number of iterations.\", ConvergenceWarning)\n",
      "C:\\Users\\zhaoyiming\\anaconda3\\lib\\site-packages\\sklearn\\svm\\_base.py:947: ConvergenceWarning: Liblinear failed to converge, increase the number of iterations.\n",
      "  \"the number of iterations.\", ConvergenceWarning)\n",
      "C:\\Users\\zhaoyiming\\anaconda3\\lib\\site-packages\\sklearn\\svm\\_base.py:947: ConvergenceWarning: Liblinear failed to converge, increase the number of iterations.\n",
      "  \"the number of iterations.\", ConvergenceWarning)\n",
      "C:\\Users\\zhaoyiming\\anaconda3\\lib\\site-packages\\sklearn\\svm\\_base.py:947: ConvergenceWarning: Liblinear failed to converge, increase the number of iterations.\n",
      "  \"the number of iterations.\", ConvergenceWarning)\n"
     ]
    },
    {
     "name": "stdout",
     "output_type": "stream",
     "text": [
      "[0.873015873015873, 0.8888888888888888, 0.8888888888888888, 0.873015873015873, 0.9523809523809523, 0.9365079365079365, 0.8571428571428571, 0.9523809523809523, 0.9682539682539683, 0.8571428571428571]\n",
      "[0.36507936507936506, 0.4126984126984127, 0.38095238095238093, 0.38095238095238093, 0.38095238095238093, 0.5555555555555556, 0.6349206349206349, 0.42857142857142855, 0.3492063492063492, 0.38095238095238093]\n",
      "[0.6825396825396826, 0.47619047619047616, 0.3968253968253968, 0.6666666666666666, 0.3968253968253968, 0.3968253968253968, 0.5396825396825397, 0.42857142857142855, 0.38095238095238093, 0.4126984126984127]\n"
     ]
    },
    {
     "name": "stderr",
     "output_type": "stream",
     "text": [
      "C:\\Users\\zhaoyiming\\anaconda3\\lib\\site-packages\\sklearn\\svm\\_base.py:947: ConvergenceWarning: Liblinear failed to converge, increase the number of iterations.\n",
      "  \"the number of iterations.\", ConvergenceWarning)\n",
      "C:\\Users\\zhaoyiming\\anaconda3\\lib\\site-packages\\sklearn\\svm\\_base.py:947: ConvergenceWarning: Liblinear failed to converge, increase the number of iterations.\n",
      "  \"the number of iterations.\", ConvergenceWarning)\n"
     ]
    }
   ],
   "source": [
    "\n",
    "\n",
    "## non-normalization: \n",
    "data_seeds=pd.read_csv(\"yXT_seeds.csv\", header=None)\n",
    "best_para_nonorm=[]\n",
    "\n",
    "## l1 normalization dataset:\n",
    "transformer=Normalizer(norm='l1').fit(data_seeds.iloc[:,1::])\n",
    "X_data_l1=transformer.transform(data_seeds.iloc[:,1::])\n",
    "best_para_norm_l1=[]\n",
    "\n",
    "## l2 normalization dataset:\n",
    "transformer=Normalizer(norm='l2').fit(data_seeds.iloc[:,1::])\n",
    "X_data_l2=transformer.transform(data_seeds.iloc[:,1::])\n",
    "best_para_norm_l2=[]\n",
    "\n",
    "scores_non=[]\n",
    "scores_l1=[]\n",
    "scores_l2=[]\n",
    "\n",
    "for i in range(10):\n",
    "    ## Benchmark non-normalization's accuracies and find best parameter\n",
    "    X_seeds_train, X_seeds_test, y_seeds_train, y_seeds_test=train_test_split(data_seeds.iloc[:,1::], data_seeds[0], \\\n",
    "                                                                  test_size=0.3)\n",
    "    n=len(y_seeds_train)\n",
    "    C_s = [0.1/n, 1/n, 10/n]\n",
    "    svm=LinearSVC()\n",
    "    scores_nonorm = list()\n",
    "    for C in C_s:\n",
    "        svm.C = C\n",
    "        this_scores = cross_val_score(svm, X_seeds_train, y_seeds_train, n_jobs=1)\n",
    "        scores_nonorm.append(np.mean(this_scores))   \n",
    "    #print(scores_nonorm)\n",
    "    # find the best para index from the scores list:\n",
    "    best_para_index=np.argmax(scores_nonorm) \n",
    "    #print(best_para_index)\n",
    "    # find the best para based on the best para index and add the corresponding value to best para list:\n",
    "    best_para_nonorm.append(C_s[best_para_index]) \n",
    "    #print(C_s[best_para_index])\n",
    "    svm.C=C_s[best_para_index]\n",
    "    svm.fit(X_seeds_test, y_seeds_test)\n",
    "    scores_non.append(svm.score(X_seeds_test, y_seeds_test))\n",
    "    \n",
    "    ## Benchmark L1 normalization's accuracies and find best parameter\n",
    "    scores_norm_l1 = list() \n",
    "    X_seeds_train, X_seeds_test, y_seeds_train, y_seeds_test=train_test_split(X_data_l1, data_seeds[0], \\\n",
    "                                                                  test_size=0.3)\n",
    "    n=len(y_seeds_train)\n",
    "    C_s = [0.1/n, 1/n, 10/n]\n",
    "    for C in C_s:\n",
    "        svm.C = C\n",
    "        this_scores = cross_val_score(svm, X_seeds_train, y_seeds_train, n_jobs=1)\n",
    "        scores_norm_l1.append(np.mean(this_scores))\n",
    "    #print(scores_norm_l1)\n",
    "    best_para_index=np.argmax(scores_norm_l1)\n",
    "    best_para_norm_l1.append(C_s[best_para_index])\n",
    "    \n",
    "    svm.C=C_s[best_para_index]\n",
    "    svm.fit(X_seeds_test, y_seeds_test)\n",
    "    scores_l1.append(svm.score(X_seeds_test, y_seeds_test))\n",
    "    ## Benchmark L2 normalization's accuracies and find best parameter\n",
    "    scores_norm_l2 = list() \n",
    "    X_seeds_train, X_seeds_test, y_seeds_train, y_seeds_test=train_test_split(X_data_l2, data_seeds[0], \\\n",
    "                                                                  test_size=0.3)\n",
    "    n=len(y_seeds_train)\n",
    "    C_s = [0.1/n, 1/n, 10/n]\n",
    "    for C in C_s:\n",
    "        svm.C = C\n",
    "        this_scores = cross_val_score(svm, X_seeds_train, y_seeds_train, n_jobs=1)\n",
    "        scores_norm_l2.append(np.mean(this_scores))\n",
    "    #print(scores_norm_l2)\n",
    "    best_para_index=np.argmax(scores_norm_l2)\n",
    "    best_para_norm_l2.append(C_s[best_para_index])\n",
    "    svm.C=C_s[best_para_index]\n",
    "    svm.fit(X_seeds_test, y_seeds_test)\n",
    "    scores_l2.append(svm.score(X_seeds_test, y_seeds_test))\n",
    "#print(best_para_nonorm[np.argmax(np.bincount(best_para_nonorm))])\n",
    "#print(best_para_norm_l1[np.argmax(np.bincount(best_para_norm_l1))])\n",
    "#print(best_para_norm_l2[np.argmax(np.bincount(best_para_norm_l2))])\n",
    "print(scores_non)\n",
    "print(scores_l1)\n",
    "print(scores_l2)"
   ]
  },
  {
   "cell_type": "code",
   "execution_count": 21,
   "metadata": {},
   "outputs": [
    {
     "data": {
      "text/plain": [
       "0.47777777777777786"
      ]
     },
     "execution_count": 21,
     "metadata": {},
     "output_type": "execute_result"
    }
   ],
   "source": [
    "$=0.905 $x$$^{(2)}$=0.427 $x$$^{(3)}$=0.478"
   ]
  },
  {
   "cell_type": "code",
   "execution_count": null,
   "metadata": {},
   "outputs": [],
   "source": [
    "$\\overline{x}$$^{(1)}"
   ]
  },
  {
   "cell_type": "code",
   "execution_count": 25,
   "metadata": {},
   "outputs": [
    {
     "data": {
      "text/plain": [
       "-0.050793650793650794"
      ]
     },
     "execution_count": 25,
     "metadata": {},
     "output_type": "execute_result"
    }
   ],
   "source": [
    "from scipy import stats\n",
    "\n",
    "scores_non=np.array(scores_non)\n",
    "scores_l1=np.array(scores_l1)\n",
    "scores_l2=np.array(scores_l2)\n",
    "\n",
    "d_mean_non_l1=np.sum(scores_non-scores_l1)/10\n",
    "d_mean_non_l2=np.sum(scores_non-scores_l2)/10\n",
    "d_mean_l1_l2=np.sum(scores_l1-scores_l2)/10\n",
    "s_non_l1=np.sqrt((np.square(scores_non-scores_l1).sum()-d_mean_non_l1**2/10)/9)\n",
    "s_non_l2=np.sqrt((np.square(scores_non-scores_l2).sum()-d_mean_non_l2**2/10)/9)\n",
    "s_l1_l2=np.sqrt((np.square(scores_l1-scores_l2).sum()-d_mean_l1_l2**2/10)/9)\n",
    "t_non_l1=d_mean_non_l1/(s_non_l1/np.sqrt(10))\n",
    "t_non_l2=d_mean_non_l2/(s_non_l2/np.sqrt(10))\n",
    "t_l1_l2=d_mean_l1_l2/(s_l1_l2/np.sqrt(10))\n",
    "p_value_non_l1=stats.t.sf(abs(t_non_l1),9)\n",
    "p_value_non_l2=stats.t.sf(abs(t_non_l2),9)\n",
    "p_value_l1_l2=stats.t.sf(abs(t_l1_l2),9)\n",
    "d_mean_l1_l2"
   ]
  },
  {
   "cell_type": "code",
   "execution_count": null,
   "metadata": {},
   "outputs": [],
   "source": []
  },
  {
   "cell_type": "code",
   "execution_count": null,
   "metadata": {},
   "outputs": [],
   "source": []
  },
  {
   "cell_type": "code",
   "execution_count": null,
   "metadata": {},
   "outputs": [],
   "source": []
  },
  {
   "cell_type": "code",
   "execution_count": null,
   "metadata": {},
   "outputs": [],
   "source": []
  }
 ],
 "metadata": {
  "kernelspec": {
   "display_name": "Python 3",
   "language": "python",
   "name": "python3"
  },
  "language_info": {
   "codemirror_mode": {
    "name": "ipython",
    "version": 3
   },
   "file_extension": ".py",
   "mimetype": "text/x-python",
   "name": "python",
   "nbconvert_exporter": "python",
   "pygments_lexer": "ipython3",
   "version": "3.7.7"
  }
 },
 "nbformat": 4,
 "nbformat_minor": 4
}
